{
  "cells": [
    {
      "cell_type": "markdown",
      "metadata": {
        "id": "NJi9ybkUs_-j"
      },
      "source": [
        "# 1. Introduction\n",
        "## Python identifier\n",
        "Identifier is a name given to entities like class, functions, variables etc. in Python. It helps differentiating one entity from another.\n",
        "\n",
        "Rules for writing identifiers in Python:\n",
        "- Identifiers can be a combination of letters in lowercase (**a** to **z**) or uppercase (**A** to **Z**) or digits (**0** to **9**) or an underscore (**_**).\n",
        "- An identifier can not start with a digit.\n",
        "- Keywords can not be used as identifiers.\n",
        "- We can not use special symbols like **!**, **@**, **#**, **$**, **%** etc. in our identifier."
      ]
    },
    {
      "cell_type": "code",
      "execution_count": 2,
      "metadata": {
        "id": "KRbARO1js_-o"
      },
      "outputs": [],
      "source": [
        "# Variable name can not start with digit in front, 1variable will cause syntax error\n",
        "variable1 = 'Identifier can not start with number'\n"
      ]
    },
    {
      "cell_type": "code",
      "execution_count": 4,
      "metadata": {
        "id": "gAGAf70Js_-p"
      },
      "outputs": [],
      "source": [
        "# Using keywords as variable name will cause error\n",
        "class_ = 1"
      ]
    },
    {
      "cell_type": "code",
      "execution_count": 6,
      "metadata": {
        "id": "7B6rNHe0s_-p"
      },
      "outputs": [],
      "source": [
        "# Using special symbols as variable name will cause error\n",
        "x_gmail = 'm.s@gmail.com'"
      ]
    },
    {
      "cell_type": "markdown",
      "metadata": {
        "id": "5L7dwfJps_-q"
      },
      "source": [
        "## Basic Object Types"
      ]
    },
    {
      "cell_type": "code",
      "execution_count": 7,
      "metadata": {
        "id": "UFEzx694s_-q",
        "colab": {
          "base_uri": "https://localhost:8080/"
        },
        "outputId": "8e1898b9-daa4-417e-bb17-8c24f322edee"
      },
      "outputs": [
        {
          "output_type": "stream",
          "name": "stdout",
          "text": [
            "<class 'NoneType'> None\n",
            "<class 'bool'> True\n",
            "<class 'int'> 1\n",
            "<class 'float'> 3.14\n",
            "<class 'float'> 3.14\n",
            "<class 'float'> inf\n",
            "<class 'float'> nan\n",
            "<class 'complex'> (2+8j)\n",
            "<class 'str'> this is a string\n",
            "<class 'str'> also me\n",
            "<class 'tuple'> (1, True, 'ML')\n",
            "<class 'list'> [1, True, 'ML']\n",
            "<class 'set'> {1, 2, 3, 4, 5}\n",
            "<class 'dict'> {'a': 'A', 2: 'AA', True: 1, False: 0}\n"
          ]
        }
      ],
      "source": [
        "none = None # Singleton null object\n",
        "boolean = bool(True)\n",
        "integer = 1\n",
        "Long = 3.14\n",
        "\n",
        "# float\n",
        "Float = 3.14\n",
        "Float_inf = float('inf')\n",
        "Float_nan = float('nan')\n",
        "\n",
        "# Complex object type, note the usage of letter j\n",
        "Complex = 2 + 8j\n",
        "\n",
        "# String can be enclosed in single or double quote\n",
        "string = 'this is a string'\n",
        "me_also_string = \"also me\"\n",
        "\n",
        "List = [1, True, 'ML'] # Values can be changed\n",
        "Tuple = (1, True, 'ML') # Values can not be changed\n",
        "Set = set([1, 2, 2, 2, 3, 4, 5, 5]) # Duplicates will not be stored\n",
        "# Use a dictionary when you have a set of unique keys that map to values\n",
        "Dictionary = {'a':'A', 2:'AA', True:1, False:0}\n",
        "\n",
        "# Let's print the object type and the value\n",
        "print(type(none), none)\n",
        "print(type(boolean), boolean)\n",
        "print(type(integer), integer)\n",
        "print(type(Long), Long)\n",
        "\n",
        "print(type(Float), Float)\n",
        "print(type(Float_inf), Float_inf)\n",
        "print(type(Float_nan), Float_nan)\n",
        "\n",
        "print(type(Complex), Complex)\n",
        "\n",
        "print(type(string), string)\n",
        "print(type(me_also_string), me_also_string)\n",
        "\n",
        "print(type(Tuple), Tuple)\n",
        "print(type(List), List)\n",
        "print(type(Set), Set)\n",
        "print(type(Dictionary), Dictionary)"
      ]
    },
    {
      "cell_type": "markdown",
      "metadata": {
        "id": "n2WdNL9ks_-r"
      },
      "source": [
        "## Comments in Python\n",
        "- All characters after the **#** and up to the physical line end are part of the comment and the Python interpreter ignores them.\n",
        "- Comments spanning more than one line are achieved by inserting a multi-line string between the **\"\"\"** delimiters."
      ]
    },
    {
      "cell_type": "code",
      "execution_count": 8,
      "metadata": {
        "id": "gshxF5pbs_-r",
        "colab": {
          "base_uri": "https://localhost:8080/",
          "height": 52
        },
        "outputId": "e1524d6e-baaa-4d3c-bf51-1f0387ffda8d"
      },
      "outputs": [
        {
          "output_type": "stream",
          "name": "stdout",
          "text": [
            "Hello Python World\n"
          ]
        },
        {
          "output_type": "execute_result",
          "data": {
            "text/plain": [
              "'This is an example of a multi line comment that spans multiple lines.\\nEverything that is in between is considered as comments.'"
            ],
            "application/vnd.google.colaboratory.intrinsic+json": {
              "type": "string"
            }
          },
          "metadata": {},
          "execution_count": 8
        }
      ],
      "source": [
        "# This is a comment in Python\n",
        "print('Hello Python World') # This is also a comment in Python\n",
        "\n",
        "'''This is an example of a multi line comment that spans multiple lines.\n",
        "Everything that is in between is considered as comments.'''"
      ]
    },
    {
      "cell_type": "markdown",
      "metadata": {
        "id": "RV7d7qW-s_-r"
      },
      "source": [
        "## Several statements in a one line"
      ]
    },
    {
      "cell_type": "code",
      "execution_count": 10,
      "metadata": {
        "id": "LLARAjl3s_-r",
        "colab": {
          "base_uri": "https://localhost:8080/"
        },
        "outputId": "5b1a6967-f4a6-43e3-9c80-1d3db740384a"
      },
      "outputs": [
        {
          "output_type": "stream",
          "name": "stdout",
          "text": [
            "foo\n"
          ]
        }
      ],
      "source": [
        "import sys; x = 'foo'; print(x)"
      ]
    },
    {
      "cell_type": "markdown",
      "metadata": {
        "id": "SmtXyengs_-s"
      },
      "source": [
        "## Code blocks"
      ]
    },
    {
      "cell_type": "code",
      "execution_count": 11,
      "metadata": {
        "id": "WFVDqKgis_-s",
        "colab": {
          "base_uri": "https://localhost:8080/"
        },
        "outputId": "00a21a41-8565-483d-f6cc-0504164a7a34"
      },
      "outputs": [
        {
          "output_type": "stream",
          "name": "stdout",
          "text": [
            "Programming is an important skill for Data Science\n",
            "Statistics is an imporant skill for Data Science\n",
            "Business domain knowledge is a important skill for Data Science\n",
            "x has a value of 1\n"
          ]
        }
      ],
      "source": [
        "# Correct indentation\n",
        "print ('Programming is an important skill for Data Science')\n",
        "print ('Statistics is an imporant skill for Data Science')\n",
        "print ('Business domain knowledge is a important skill for Data Science')\n",
        "\n",
        "# Correct indentation, note that if statement here is an example of suites\n",
        "x = 1\n",
        "if x == 1:\n",
        "    print ('x has a value of 1')\n",
        "else:\n",
        "    print ('x does NOT have a value of 1')"
      ]
    },
    {
      "cell_type": "code",
      "execution_count": 15,
      "metadata": {
        "id": "Vpq9PkESs_-s",
        "colab": {
          "base_uri": "https://localhost:8080/"
        },
        "outputId": "8e3392f2-dfa7-453a-a04a-0a11c2ab708b"
      },
      "outputs": [
        {
          "output_type": "stream",
          "name": "stdout",
          "text": [
            "Programming is an important skill for Data Science\n",
            "Statistics is an important skill for Data Science\n",
            "Business domain knowledge is a important skill for Data Science\n"
          ]
        }
      ],
      "source": [
        "# Incorrect indentation, program will generate a syntax error\n",
        "# due to the space character inserted at the beginning of second line\n",
        "# Correct indentation\n",
        "print ('Programming is an important skill for Data Science')\n",
        "print ('Statistics is an important skill for Data Science') # Removed the extra space at the begining of this line\n",
        "print ('Business domain knowledge is a important skill for Data Science')"
      ]
    },
    {
      "cell_type": "code",
      "execution_count": 16,
      "metadata": {
        "id": "PHGiKp4ks_-s",
        "colab": {
          "base_uri": "https://localhost:8080/"
        },
        "outputId": "53e662df-e50e-4493-e271-4078fd9acd34"
      },
      "outputs": [
        {
          "output_type": "stream",
          "name": "stdout",
          "text": [
            "x has a value of 1\n"
          ]
        }
      ],
      "source": [
        "# Incorrect indentation, program will generate a syntax error\n",
        "# due to the wrong indentation in the else statement\n",
        "# Correct indentation\n",
        "x = 1\n",
        "if x == 1:\n",
        "    print ('x has a value of 1')\n",
        "else:\n",
        "    print ('x does NOT have a value of 1') # Added indentation (4 spaces) here"
      ]
    },
    {
      "cell_type": "markdown",
      "metadata": {
        "id": "sGXMSfzZs_-t"
      },
      "source": [
        "## Multi-line statements"
      ]
    },
    {
      "cell_type": "code",
      "execution_count": 17,
      "metadata": {
        "id": "vv0vvEx4s_-t",
        "colab": {
          "base_uri": "https://localhost:8080/"
        },
        "outputId": "9aabff70-18e6-4eef-c222-06e56aed9217"
      },
      "outputs": [
        {
          "output_type": "stream",
          "name": "stdout",
          "text": [
            "x has a value of 1234\n",
            "y has a value of 121112\n",
            "['Monday', 'Tuesday', 'Wednesday', 'Thursday', 'Friday']\n",
            "{'Sunday', 'Saturday'}\n"
          ]
        }
      ],
      "source": [
        "# Example of implicit line continuation\n",
        "x = ('1' + '2' +\n",
        "    '3' + '4')\n",
        "\n",
        "# Example of explicit line continuation\n",
        "y = '1' + '2' + \\\n",
        "    '11' + '12'\n",
        "\n",
        "weekdays = ['Monday', 'Tuesday', 'Wednesday',\n",
        "            'Thursday', 'Friday']\n",
        "\n",
        "weekend = {'Saturday',\n",
        "           'Sunday'}\n",
        "\n",
        "print ('x has a value of', x)\n",
        "print ('y has a value of', y)\n",
        "print (weekdays)\n",
        "print (weekend)"
      ]
    },
    {
      "cell_type": "markdown",
      "metadata": {
        "id": "5UmpR1ISs_-t"
      },
      "source": [
        "# 2. Basic operators\n",
        "## Arithmetic operators\n",
        "Arithmetic operators are used to perform mathematical operations like addition, subtraction, multiplication etc."
      ]
    },
    {
      "cell_type": "code",
      "execution_count": 18,
      "metadata": {
        "id": "3BDOqI7Ys_-t",
        "colab": {
          "base_uri": "https://localhost:8080/"
        },
        "outputId": "bdf5610a-e324-4b27-e174-f8199aa85f83"
      },
      "outputs": [
        {
          "output_type": "stream",
          "name": "stdout",
          "text": [
            "Addition, x(10) + y(5) =  15\n",
            "Subtraction, x(10) - y(5) =  5\n",
            "Multiplication, x(10) * y(5) =  50\n",
            "Division, x(10) / y(5) =  2.0\n",
            "Modulus, x(10) % y(5) =  0\n",
            "Exponent, x(10)**y(5) =  100000\n",
            "Floor Division, x(10)//y(5) =  2\n"
          ]
        }
      ],
      "source": [
        "# Variable x holds 10 and variable y holds 5\n",
        "x = 10\n",
        "y = 5\n",
        "\n",
        "# Addition\n",
        "print ('Addition, x(10) + y(5) = ', x + y)\n",
        "\n",
        "# Subtraction\n",
        "print ('Subtraction, x(10) - y(5) = ', x - y)\n",
        "\n",
        "# Multiplication\n",
        "print ('Multiplication, x(10) * y(5) = ', x * y)\n",
        "\n",
        "# Division\n",
        "print ('Division, x(10) / y(5) = ', x / y)\n",
        "\n",
        "# Modulus\n",
        "print ('Modulus, x(10) % y(5) = ', x % y)\n",
        "\n",
        "# Exponent\n",
        "print ('Exponent, x(10)**y(5) = ', x**y)\n",
        "\n",
        "# Integer division rounded towards minus infinity\n",
        "print ('Floor Division, x(10)//y(5) = ', x//y)"
      ]
    },
    {
      "cell_type": "markdown",
      "metadata": {
        "id": "YVDAiXDts_-u"
      },
      "source": [
        "## Comparison operators\n",
        "Comparison operators are used to compare values. It either returns **True** or **False** according to the condition."
      ]
    },
    {
      "cell_type": "code",
      "execution_count": 20,
      "metadata": {
        "id": "6NsMPthhs_-u",
        "colab": {
          "base_uri": "https://localhost:8080/"
        },
        "outputId": "3f5d0b21-4006-4c31-8289-5c9d5feda157"
      },
      "outputs": [
        {
          "output_type": "stream",
          "name": "stdout",
          "text": [
            "Equal check, x(10) == y(5)  False\n",
            "Not Equal check, x(10) != y(5)  True\n",
            "Less than check, x(10) < y(5)  False\n",
            "Greater than check, x(10) > y(5)  True\n",
            "Less than or equal to check, x(10) <= y(5)  False\n",
            "Greater than or equal to check, x(10) >= y(5)  True\n"
          ]
        }
      ],
      "source": [
        "# Variable x holds 10 and variable b holds 5\n",
        "# Equal check operation\n",
        "print ('Equal check, x(10) == y(5) ', x == y)\n",
        "\n",
        "# Not Equal check operation\n",
        "print ('Not Equal check, x(10) != y(5) ', x != y)\n",
        "\n",
        "# Less than check operation\n",
        "print ('Less than check, x(10) < y(5) ', x < y)\n",
        "\n",
        "# Greater check operation\n",
        "print ('Greater than check, x(10) > y(5) ', x > y)\n",
        "\n",
        "# Less than or equal check operation\n",
        "print ('Less than or equal to check, x(10) <= y(5) ', x <= y)\n",
        "\n",
        "# Greater than or equal to check operation\n",
        "print ('Greater than or equal to check, x(10) >= y(5) ', x >= y)"
      ]
    },
    {
      "cell_type": "markdown",
      "metadata": {
        "id": "jO2Me7lts_-u"
      },
      "source": [
        "## Assignment operations"
      ]
    },
    {
      "cell_type": "code",
      "execution_count": 21,
      "metadata": {
        "id": "sXfEKK2Qs_-u",
        "colab": {
          "base_uri": "https://localhost:8080/"
        },
        "outputId": "89d2bb87-dc1e-46fc-befb-4587267cfd25"
      },
      "outputs": [
        {
          "output_type": "stream",
          "name": "stdout",
          "text": [
            "Value of a post x += y is  15\n",
            "Value of a post x *= y is  150\n",
            "Value of a post x /= y is  15.0\n",
            "Value of a post x %= y is  5.0\n",
            "Value of x post x **= y is  9765625.0\n",
            "Value of a post x //= y is  976562.0\n"
          ]
        }
      ],
      "source": [
        "# Variable x holds 10 and variable y holds 5\n",
        "x = 5\n",
        "y = 10\n",
        "\n",
        "x += y\n",
        "print ('Value of a post x += y is ', x)\n",
        "\n",
        "x *= y\n",
        "print ('Value of a post x *= y is ', x)\n",
        "\n",
        "x /= y\n",
        "print ('Value of a post x /= y is ', x)\n",
        "\n",
        "x %= y\n",
        "print ('Value of a post x %= y is ', x)\n",
        "\n",
        "x **= y\n",
        "print ('Value of x post x **= y is ', x)\n",
        "\n",
        "x //= y\n",
        "print ('Value of a post x //= y is ', x)"
      ]
    },
    {
      "cell_type": "markdown",
      "metadata": {
        "id": "IGLq24_Ws_-u"
      },
      "source": [
        "## Bitwise operations\n",
        "Bitwise operators act on operands as if they were string of binary digits. As the name suggest, it operates bit by bit."
      ]
    },
    {
      "cell_type": "code",
      "execution_count": 22,
      "metadata": {
        "id": "Tp4UtMnPs_-u",
        "colab": {
          "base_uri": "https://localhost:8080/"
        },
        "outputId": "1b5e637b-c5a2-491d-d1f9-fe67a750f21d"
      },
      "outputs": [
        {
          "output_type": "stream",
          "name": "stdout",
          "text": [
            "0\n",
            "160\n",
            "0\n",
            "14\n",
            "14\n",
            "-11\n"
          ]
        }
      ],
      "source": [
        "# Basic six bitwise operations\n",
        "# Let x = 10 (0000 1010 in binary) and y = 4 (0000 0100 in binary)\n",
        "x = 10\n",
        "y = 4\n",
        "\n",
        "print (x >> y)  # Right Shift\n",
        "print (x << y)  # Left Shift\n",
        "print (x & y)   # Bitwise AND\n",
        "print (x | y)   # Bitwise OR\n",
        "print (x ^ y) # Bitwise XOR\n",
        "print (~x)    # Bitwise NOT"
      ]
    },
    {
      "cell_type": "markdown",
      "metadata": {
        "id": "NV6B4OP3s_-u"
      },
      "source": [
        "## Logical operators\n",
        "Logical operators are the **and**, **or**, **not** operators."
      ]
    },
    {
      "cell_type": "code",
      "execution_count": 23,
      "metadata": {
        "id": "VIti7Ud4s_-v",
        "colab": {
          "base_uri": "https://localhost:8080/"
        },
        "outputId": "df13c4a0-9a05-4072-dae4-3346a5360a20"
      },
      "outputs": [
        {
          "output_type": "stream",
          "name": "stdout",
          "text": [
            "var1 and var2 is False\n",
            "var1 or var2 is True\n",
            "not var1 is False\n"
          ]
        }
      ],
      "source": [
        "var1 = True\n",
        "var2 = False\n",
        "print('var1 and var2 is', var1 and var2)\n",
        "print('var1 or var2 is', var1 or var2)\n",
        "print('not var1 is', not var1)"
      ]
    },
    {
      "cell_type": "markdown",
      "metadata": {
        "id": "5mdWuY0Es_-v"
      },
      "source": [
        "## Membership operators\n",
        "**in** and **not in** are the membership operators in Python. They are used to test whether a value or variable is found in a sequence (string, list, tuple, set and dictionary). In a dictionary we can only test for presence of key, not the value."
      ]
    },
    {
      "cell_type": "code",
      "execution_count": 24,
      "metadata": {
        "id": "EsvZi41fs_-v",
        "colab": {
          "base_uri": "https://localhost:8080/"
        },
        "outputId": "a79b5dee-015f-45f0-f2f5-bfb90089dc42"
      },
      "outputs": [
        {
          "output_type": "stream",
          "name": "stdout",
          "text": [
            "True\n",
            "True\n",
            "True\n",
            "False\n"
          ]
        }
      ],
      "source": [
        "var1 = 'Hello world'    # String\n",
        "var2 = {1:'a', 2:'b'}    # Dictionary\n",
        "print('H' in var1)\n",
        "print('hello' not in var1)\n",
        "print(1 in var2)\n",
        "print('a' in var2)"
      ]
    },
    {
      "cell_type": "markdown",
      "metadata": {
        "id": "-tyBZNnVs_-v"
      },
      "source": [
        "## Identity operatros\n",
        "**is** and **is not** are the identity operators in Python. They are used to check whether two values (or variables) are located on the same part of the memory. Two variables that are equal do not imply that they are identical."
      ]
    },
    {
      "cell_type": "code",
      "execution_count": 25,
      "metadata": {
        "id": "KqLrL1RYs_-v",
        "colab": {
          "base_uri": "https://localhost:8080/"
        },
        "outputId": "4f91bec8-b5ce-4397-fc13-0eba523084a3"
      },
      "outputs": [
        {
          "output_type": "stream",
          "name": "stdout",
          "text": [
            "False\n",
            "True\n",
            "True\n"
          ]
        }
      ],
      "source": [
        "var1 = 5\n",
        "var1 = 5\n",
        "var2 = 'Hello'\n",
        "var2 = 'Hello'\n",
        "var3 = [1, 2, 3]\n",
        "var3 = [1, 2, 3]\n",
        "print(var1 is not var1)\n",
        "print(var2 is var2)\n",
        "print(var3 is var3)"
      ]
    },
    {
      "cell_type": "markdown",
      "metadata": {
        "id": "s52FYIfis_-v"
      },
      "source": [
        "# 3. Control structures\n",
        "A control structure is a basic decision-making process in computing. It is a block of programming that analyzes variables and chooses a direction in which to go based on given parameters."
      ]
    },
    {
      "cell_type": "code",
      "execution_count": 26,
      "metadata": {
        "id": "U9gyqONts_-v",
        "colab": {
          "base_uri": "https://localhost:8080/"
        },
        "outputId": "32c1bc57-db32-4666-c6b2-d4350f8cd252"
      },
      "outputs": [
        {
          "output_type": "stream",
          "name": "stdout",
          "text": [
            "-1\n",
            "the value of var is negative\n",
            "the value of var is negative\n"
          ]
        }
      ],
      "source": [
        "var = -1\n",
        "if var < 0:\n",
        "    print (var)\n",
        "    print ('the value of var is negative')\n",
        "\n",
        "# If the suite of an if clause consists only of a single line, it may go on the same line as the header statement\n",
        "if ( var  == -1 ) : print ('the value of var is negative')"
      ]
    },
    {
      "cell_type": "code",
      "execution_count": 27,
      "metadata": {
        "id": "WfrIpla7s_-v",
        "colab": {
          "base_uri": "https://localhost:8080/"
        },
        "outputId": "6729fff3-353e-4cdc-924a-19b3a3a7e99a"
      },
      "outputs": [
        {
          "output_type": "stream",
          "name": "stdout",
          "text": [
            "the value of var is positive\n",
            "1\n"
          ]
        }
      ],
      "source": [
        "var = 1\n",
        "\n",
        "if var < 0:\n",
        "    print ('the value of var is negative')\n",
        "    print (var)\n",
        "else:\n",
        "    print ('the value of var is positive')\n",
        "    print (var)"
      ]
    },
    {
      "cell_type": "code",
      "execution_count": 28,
      "metadata": {
        "id": "Uvfa_NX_s_-w",
        "colab": {
          "base_uri": "https://localhost:8080/"
        },
        "outputId": "e492dc9e-3c66-4260-bcb7-f8e20263d0d4"
      },
      "outputs": [
        {
          "output_type": "stream",
          "name": "stdout",
          "text": [
            "B\n"
          ]
        }
      ],
      "source": [
        "score = 95\n",
        "\n",
        "if score >= 99:\n",
        "    print('A')\n",
        "elif score >= 75:\n",
        "    print('B')\n",
        "elif score >= 60:\n",
        "    print('C')\n",
        "elif score >= 35:\n",
        "    print('D')\n",
        "else:\n",
        "    print('F')"
      ]
    },
    {
      "cell_type": "code",
      "execution_count": 29,
      "metadata": {
        "id": "nh5KPqnWs_-w",
        "colab": {
          "base_uri": "https://localhost:8080/"
        },
        "outputId": "10862ccb-c4d1-4c0a-84de-95ceea28b80d"
      },
      "outputs": [
        {
          "output_type": "stream",
          "name": "stdout",
          "text": [
            "First Example\n",
            "item : 1\n",
            "item : 2\n",
            "item : 3\n",
            "item : 4\n",
            "item : 5\n",
            "\n",
            "Second Example\n",
            "First loop letter : A\n",
            "First loop letter : B\n",
            "First loop letter : C\n",
            "\n",
            "Third Example\n",
            "First loop letter : A\n",
            "First loop letter : B\n",
            "First loop letter : C\n",
            "\n",
            "Fourth Example\n",
            "item : 1\n",
            "item : 2\n",
            "item : 3\n",
            "item : 4\n",
            "item : 5\n",
            "looping over item complete!\n"
          ]
        }
      ],
      "source": [
        "# First Example\n",
        "print ('First Example')\n",
        "for item in [1, 2, 3, 4, 5]:\n",
        "    print ('item :', item)\n",
        "\n",
        "# Second Example\n",
        "print ('\\nSecond Example')\n",
        "letters = ['A', 'B', 'C']\n",
        "for letter in letters:\n",
        "    print ('First loop letter :', letter)\n",
        "\n",
        "# Third Example - iterating by sequency index\n",
        "print ('\\nThird Example')\n",
        "for index in range(len(letters)):\n",
        "    print ('First loop letter :', letters[index])\n",
        "\n",
        "# Fourth Example - using else statement\n",
        "print ('\\nFourth Example')\n",
        "for item in [1, 2, 3, 4, 5]:\n",
        "    print ('item :', item)\n",
        "else:\n",
        "    print ('looping over item complete!')"
      ]
    },
    {
      "cell_type": "code",
      "execution_count": 30,
      "metadata": {
        "id": "KfFWfUIps_-w",
        "colab": {
          "base_uri": "https://localhost:8080/"
        },
        "outputId": "7295e49a-0a70-45ad-a951-b22f75b8e29f"
      },
      "outputs": [
        {
          "output_type": "stream",
          "name": "stdout",
          "text": [
            "The count is: 0\n",
            "The count is: 1\n",
            "The count is: 2\n",
            "The count is: 3\n",
            "The count is: 4\n"
          ]
        }
      ],
      "source": [
        "count = 0\n",
        "while (count < 5):\n",
        "    print ('The count is:', count)\n",
        "    count = count + 1"
      ]
    },
    {
      "cell_type": "markdown",
      "metadata": {
        "id": "gAdAJtBgs_-w"
      },
      "source": [
        "# 4. Modules\n",
        "A module is a logically organized multiple independent but related set of codes or functions or classes. The key principle behind module creating is it's easier to understand, use and efficient maintainability.\n",
        "\n",
        "When you import a module, it's loaded only once, regardless of the number of times it is imported. You can also import specific elements (functions, classes etc) from your module into the current namespace."
      ]
    },
    {
      "cell_type": "code",
      "execution_count": 31,
      "metadata": {
        "id": "-hflLBCDs_-w"
      },
      "outputs": [],
      "source": [
        "# Import all functions from a module\n",
        "import os             # Method 1\n",
        "from os import *      # Method 2"
      ]
    },
    {
      "cell_type": "code",
      "execution_count": 32,
      "metadata": {
        "id": "DCsd7bnEs_-w"
      },
      "outputs": [],
      "source": [
        "# Import a function named abc from the module os\n",
        "from os import abc"
      ]
    },
    {
      "cell_type": "markdown",
      "metadata": {
        "id": "4tvagnqJs_-0"
      },
      "source": [
        "**dir()** is a built-in function of module **os**, running this will return a sorted list of strings containing the names of all the modules, variables and functions that are defined in a module."
      ]
    },
    {
      "cell_type": "code",
      "execution_count": 33,
      "metadata": {
        "id": "PTn3gdqUs_-0",
        "colab": {
          "base_uri": "https://localhost:8080/"
        },
        "outputId": "e4c6eafa-40bd-467c-ddde-9110b23cd4d0"
      },
      "outputs": [
        {
          "output_type": "stream",
          "name": "stdout",
          "text": [
            "['CLD_CONTINUED', 'CLD_DUMPED', 'CLD_EXITED', 'CLD_KILLED', 'CLD_STOPPED', 'CLD_TRAPPED', 'DirEntry', 'EFD_CLOEXEC', 'EFD_NONBLOCK', 'EFD_SEMAPHORE', 'EX_CANTCREAT', 'EX_CONFIG', 'EX_DATAERR', 'EX_IOERR', 'EX_NOHOST', 'EX_NOINPUT', 'EX_NOPERM', 'EX_NOUSER', 'EX_OK', 'EX_OSERR', 'EX_OSFILE', 'EX_PROTOCOL', 'EX_SOFTWARE', 'EX_TEMPFAIL', 'EX_UNAVAILABLE', 'EX_USAGE', 'F_LOCK', 'F_OK', 'F_TEST', 'F_TLOCK', 'F_ULOCK', 'GRND_NONBLOCK', 'GRND_RANDOM', 'GenericAlias', 'MFD_ALLOW_SEALING', 'MFD_CLOEXEC', 'MFD_HUGETLB', 'MFD_HUGE_16GB', 'MFD_HUGE_16MB', 'MFD_HUGE_1GB', 'MFD_HUGE_1MB', 'MFD_HUGE_256MB', 'MFD_HUGE_2GB', 'MFD_HUGE_2MB', 'MFD_HUGE_32MB', 'MFD_HUGE_512KB', 'MFD_HUGE_512MB', 'MFD_HUGE_64KB', 'MFD_HUGE_8MB', 'MFD_HUGE_MASK', 'MFD_HUGE_SHIFT', 'Mapping', 'MutableMapping', 'NGROUPS_MAX', 'O_ACCMODE', 'O_APPEND', 'O_ASYNC', 'O_CLOEXEC', 'O_CREAT', 'O_DIRECT', 'O_DIRECTORY', 'O_DSYNC', 'O_EXCL', 'O_FSYNC', 'O_LARGEFILE', 'O_NDELAY', 'O_NOATIME', 'O_NOCTTY', 'O_NOFOLLOW', 'O_NONBLOCK', 'O_PATH', 'O_RDONLY', 'O_RDWR', 'O_RSYNC', 'O_SYNC', 'O_TMPFILE', 'O_TRUNC', 'O_WRONLY', 'POSIX_FADV_DONTNEED', 'POSIX_FADV_NOREUSE', 'POSIX_FADV_NORMAL', 'POSIX_FADV_RANDOM', 'POSIX_FADV_SEQUENTIAL', 'POSIX_FADV_WILLNEED', 'POSIX_SPAWN_CLOSE', 'POSIX_SPAWN_DUP2', 'POSIX_SPAWN_OPEN', 'PRIO_PGRP', 'PRIO_PROCESS', 'PRIO_USER', 'P_ALL', 'P_NOWAIT', 'P_NOWAITO', 'P_PGID', 'P_PID', 'P_PIDFD', 'P_WAIT', 'PathLike', 'RTLD_DEEPBIND', 'RTLD_GLOBAL', 'RTLD_LAZY', 'RTLD_LOCAL', 'RTLD_NODELETE', 'RTLD_NOLOAD', 'RTLD_NOW', 'RWF_APPEND', 'RWF_DSYNC', 'RWF_HIPRI', 'RWF_NOWAIT', 'RWF_SYNC', 'R_OK', 'SCHED_BATCH', 'SCHED_FIFO', 'SCHED_IDLE', 'SCHED_OTHER', 'SCHED_RESET_ON_FORK', 'SCHED_RR', 'SEEK_CUR', 'SEEK_DATA', 'SEEK_END', 'SEEK_HOLE', 'SEEK_SET', 'SPLICE_F_MORE', 'SPLICE_F_MOVE', 'SPLICE_F_NONBLOCK', 'ST_APPEND', 'ST_MANDLOCK', 'ST_NOATIME', 'ST_NODEV', 'ST_NODIRATIME', 'ST_NOEXEC', 'ST_NOSUID', 'ST_RDONLY', 'ST_RELATIME', 'ST_SYNCHRONOUS', 'ST_WRITE', 'TMP_MAX', 'WCONTINUED', 'WCOREDUMP', 'WEXITED', 'WEXITSTATUS', 'WIFCONTINUED', 'WIFEXITED', 'WIFSIGNALED', 'WIFSTOPPED', 'WNOHANG', 'WNOWAIT', 'WSTOPPED', 'WSTOPSIG', 'WTERMSIG', 'WUNTRACED', 'W_OK', 'XATTR_CREATE', 'XATTR_REPLACE', 'XATTR_SIZE_MAX', 'X_OK', '_Environ', '__all__', '__builtins__', '__doc__', '__file__', '__loader__', '__name__', '__package__', '__spec__', '_check_methods', '_execvpe', '_exists', '_exit', '_fspath', '_fwalk', '_get_exports_list', '_spawnvef', '_walk', '_wrap_close', 'abc', 'abort', 'access', 'altsep', 'chdir', 'chmod', 'chown', 'chroot', 'close', 'closerange', 'confstr', 'confstr_names', 'copy_file_range', 'cpu_count', 'ctermid', 'curdir', 'defpath', 'device_encoding', 'devnull', 'dup', 'dup2', 'environ', 'environb', 'error', 'eventfd', 'eventfd_read', 'eventfd_write', 'execl', 'execle', 'execlp', 'execlpe', 'execv', 'execve', 'execvp', 'execvpe', 'extsep', 'fchdir', 'fchmod', 'fchown', 'fdatasync', 'fdopen', 'fork', 'forkpty', 'fpathconf', 'fsdecode', 'fsencode', 'fspath', 'fstat', 'fstatvfs', 'fsync', 'ftruncate', 'fwalk', 'get_blocking', 'get_exec_path', 'get_inheritable', 'get_terminal_size', 'getcwd', 'getcwdb', 'getegid', 'getenv', 'getenvb', 'geteuid', 'getgid', 'getgrouplist', 'getgroups', 'getloadavg', 'getlogin', 'getpgid', 'getpgrp', 'getpid', 'getppid', 'getpriority', 'getrandom', 'getresgid', 'getresuid', 'getsid', 'getuid', 'getxattr', 'initgroups', 'isatty', 'kill', 'killpg', 'lchown', 'linesep', 'link', 'listdir', 'listxattr', 'lockf', 'login_tty', 'lseek', 'lstat', 'major', 'makedev', 'makedirs', 'memfd_create', 'minor', 'mkdir', 'mkfifo', 'mknod', 'name', 'nice', 'open', 'openpty', 'pardir', 'path', 'pathconf', 'pathconf_names', 'pathsep', 'pidfd_open', 'pipe', 'pipe2', 'popen', 'posix_fadvise', 'posix_fallocate', 'posix_spawn', 'posix_spawnp', 'pread', 'preadv', 'putenv', 'pwrite', 'pwritev', 'read', 'readlink', 'readv', 'register_at_fork', 'remove', 'removedirs', 'removexattr', 'rename', 'renames', 'replace', 'rmdir', 'scandir', 'sched_get_priority_max', 'sched_get_priority_min', 'sched_getaffinity', 'sched_getparam', 'sched_getscheduler', 'sched_param', 'sched_rr_get_interval', 'sched_setaffinity', 'sched_setparam', 'sched_setscheduler', 'sched_yield', 'sendfile', 'sep', 'set_blocking', 'set_inheritable', 'setegid', 'seteuid', 'setgid', 'setgroups', 'setpgid', 'setpgrp', 'setpriority', 'setregid', 'setresgid', 'setresuid', 'setreuid', 'setsid', 'setuid', 'setxattr', 'spawnl', 'spawnle', 'spawnlp', 'spawnlpe', 'spawnv', 'spawnve', 'spawnvp', 'spawnvpe', 'splice', 'st', 'stat', 'stat_result', 'statvfs', 'statvfs_result', 'strerror', 'supports_bytes_environ', 'supports_dir_fd', 'supports_effective_ids', 'supports_fd', 'supports_follow_symlinks', 'symlink', 'sync', 'sys', 'sysconf', 'sysconf_names', 'system', 'tcgetpgrp', 'tcsetpgrp', 'terminal_size', 'times', 'times_result', 'truncate', 'ttyname', 'umask', 'uname', 'uname_result', 'unlink', 'unsetenv', 'urandom', 'utime', 'wait', 'wait3', 'wait4', 'waitid', 'waitid_result', 'waitpid', 'waitstatus_to_exitcode', 'walk', 'write', 'writev']\n"
          ]
        }
      ],
      "source": [
        "import os\n",
        "\n",
        "content = dir(os)\n",
        "print (content)"
      ]
    },
    {
      "cell_type": "markdown",
      "metadata": {
        "id": "ZyZlxrOKs_-0"
      },
      "source": [
        "# 5. Lists\n",
        "The **list** is a most versatile data type available in Python which can be written as a list of comma-separated values (items) between square brackets. Important thing about a list is that items in a list need not be of the same type."
      ]
    },
    {
      "cell_type": "markdown",
      "metadata": {
        "id": "mJFDDvAfs_-0"
      },
      "source": [
        "## Accessing lists"
      ]
    },
    {
      "cell_type": "code",
      "execution_count": 34,
      "metadata": {
        "id": "R7_IFN08s_-1",
        "colab": {
          "base_uri": "https://localhost:8080/"
        },
        "outputId": "18d563d0-f5a7-4ee0-ae8b-6138a482f6f5"
      },
      "outputs": [
        {
          "output_type": "stream",
          "name": "stdout",
          "text": [
            "list_1[0]: Statistics\n",
            "list2_[1:5]: ['b', 1, 2, 3]\n"
          ]
        }
      ],
      "source": [
        "list_1 = ['Statistics', 'Programming', 2018, 2019, 2020]\n",
        "list_2 = ['a', 'b', 1, 2, 3, 4, 5, 6, 7 ]\n",
        "\n",
        "# Accessing values in lists\n",
        "print ('list_1[0]:', list_1[0])\n",
        "print ('list2_[1:5]:', list_2[1:5])"
      ]
    },
    {
      "cell_type": "markdown",
      "metadata": {
        "id": "UBBcNbc1s_-1"
      },
      "source": [
        "## Adding new value to list"
      ]
    },
    {
      "cell_type": "code",
      "execution_count": 35,
      "metadata": {
        "id": "_owSSxsus_-1",
        "colab": {
          "base_uri": "https://localhost:8080/"
        },
        "outputId": "958a3da0-96df-4a66-f88b-229546bff9be"
      },
      "outputs": [
        {
          "output_type": "stream",
          "name": "stdout",
          "text": [
            "list_1 values: ['Statistics', 'Programming', 2018, 2019, 2020]\n",
            "list_1 values post append: ['Statistics', 'Programming', 2018, 2019, 2020, 2021]\n"
          ]
        }
      ],
      "source": [
        "# Adding new value to list\n",
        "print ('list_1 values:', list_1)\n",
        "list_1.append(2021)\n",
        "print ('list_1 values post append:', list_1)"
      ]
    },
    {
      "cell_type": "markdown",
      "metadata": {
        "id": "29FUz3Mas_-1"
      },
      "source": [
        "## Deleting list elements"
      ]
    },
    {
      "cell_type": "code",
      "execution_count": 36,
      "metadata": {
        "id": "mPxuDJ5ss_-1",
        "colab": {
          "base_uri": "https://localhost:8080/"
        },
        "outputId": "8ad17107-fc3a-4ab5-8c10-60ddbb5b566f"
      },
      "outputs": [
        {
          "output_type": "stream",
          "name": "stdout",
          "text": [
            "list_1 values: ['Statistics', 'Programming', 2018, 2019, 2020, 2021]\n",
            "After deleting value at index 2 : ['Statistics', 'Programming', 2019, 2020, 2021]\n"
          ]
        }
      ],
      "source": [
        "# Deleting list elements\n",
        "print ('list_1 values:', list_1)\n",
        "del list_1[2];\n",
        "print ('After deleting value at index 2 :', list_1)"
      ]
    },
    {
      "cell_type": "markdown",
      "metadata": {
        "id": "s9-C9I7cs_-1"
      },
      "source": [
        "# Basic operations on lists"
      ]
    },
    {
      "cell_type": "code",
      "execution_count": 37,
      "metadata": {
        "id": "D_f0ijIDs_-1",
        "colab": {
          "base_uri": "https://localhost:8080/"
        },
        "outputId": "1205fe56-e384-4797-805b-6d7a1c5902b9"
      },
      "outputs": [
        {
          "output_type": "stream",
          "name": "stdout",
          "text": [
            "Length: 5\n",
            "Concatenation: [1, 2, 3, 4, 5, 6]\n",
            "Repetition: ['Hello', 'Hello', 'Hello', 'Hello']\n",
            "Membership: True\n",
            "Iteration:\n",
            "1\n",
            "2\n",
            "3\n"
          ]
        }
      ],
      "source": [
        "# Basic operations\n",
        "print ('Length:', len(list_1))\n",
        "print ('Concatenation:', [1, 2, 3] + [4, 5, 6])\n",
        "print ('Repetition:', ['Hello'] * 4)\n",
        "print ('Membership:', 3 in [1, 2, 3])\n",
        "print ('Iteration:')\n",
        "for x in [1, 2, 3]: print (x)"
      ]
    },
    {
      "cell_type": "code",
      "execution_count": 38,
      "metadata": {
        "id": "IZ8VQuxKs_-1",
        "colab": {
          "base_uri": "https://localhost:8080/"
        },
        "outputId": "0b2de17e-417e-4503-b375-e1e143348ad1"
      },
      "outputs": [
        {
          "output_type": "stream",
          "name": "stdout",
          "text": [
            "slicing: 2020\n",
            "slicing range: ['Programming', 2019, 2020, 2021]\n"
          ]
        }
      ],
      "source": [
        "# Negative sign will count from the right\n",
        "print ('slicing:', list_1[-2])\n",
        "# If you don't specify the end explicitly, all elements from the specified start index will be printed\n",
        "print ('slicing range:', list_1[1:])"
      ]
    },
    {
      "cell_type": "code",
      "execution_count": 39,
      "metadata": {
        "id": "_2rXjG3Os_-2",
        "colab": {
          "base_uri": "https://localhost:8080/"
        },
        "outputId": "49b9642d-605f-4ad3-d2cd-8a77c6d85529"
      },
      "outputs": [
        {
          "output_type": "stream",
          "name": "stdout",
          "text": [
            "Compare two lists: 1\n",
            "Max of list: 5\n",
            "Min of list: 1\n",
            "Count number of 1 in list: 2\n",
            "Extended: ['Statistics', 'Programming', 2019, 2020, 2021, 'a', 'b', 1, 2, 3, 4, 5, 6, 7]\n"
          ]
        }
      ],
      "source": [
        "# Comparing elements of lists\n",
        "def cmp(a, b):\n",
        "    return (a > b) - (a < b)\n",
        "\n",
        "print ('Compare two lists:', cmp([1, 2, 3, 4], [1, 2, 3]))\n",
        "print ('Max of list:', max([1, 2, 3, 4, 5]))\n",
        "print ('Min of list:', min([1, 2, 3, 4, 5]))\n",
        "print ('Count number of 1 in list:', [1, 1, 2, 3, 4, 5].count(1))\n",
        "list_1.extend(list_2)\n",
        "print ('Extended:', list_1)"
      ]
    },
    {
      "cell_type": "code",
      "execution_count": 40,
      "metadata": {
        "id": "qnOKVvqws_-2",
        "colab": {
          "base_uri": "https://localhost:8080/"
        },
        "outputId": "39a0bccb-fff7-4a5d-e257-d0cc7c3b48f5"
      },
      "outputs": [
        {
          "output_type": "stream",
          "name": "stdout",
          "text": [
            "Index for Programming: 1\n",
            "['Statistics', 'Programming', 2019, 2020, 2021, 'a', 'b', 1, 2, 3, 4, 5, 6, 7]\n",
            "pop last item in list: 7\n",
            "pop the item with index 2: 2019\n",
            "removed b from list: ['Statistics', 'Programming', 2020, 2021, 'a', 1, 2, 3, 4, 5, 6]\n",
            "Reverse: [6, 5, 4, 3, 2, 1, 'a', 2021, 2020, 'Programming', 'Statistics']\n"
          ]
        }
      ],
      "source": [
        "print ('Index for Programming:', list_1.index('Programming'))\n",
        "print (list_1)\n",
        "print ('pop last item in list:', list_1.pop())\n",
        "print ('pop the item with index 2:', list_1.pop(2))\n",
        "list_1.remove('b')\n",
        "print ('removed b from list:', list_1)\n",
        "list_1.reverse()\n",
        "print ('Reverse:', list_1)"
      ]
    },
    {
      "cell_type": "code",
      "execution_count": 41,
      "metadata": {
        "id": "PY21RuYxs_-2",
        "colab": {
          "base_uri": "https://localhost:8080/"
        },
        "outputId": "e1654c9c-0fad-43ca-ad11-b0b2e49a0484"
      },
      "outputs": [
        {
          "output_type": "stream",
          "name": "stdout",
          "text": [
            "Sort ascending: ['a', 'b', 'c']\n",
            "Sort descending: ['c', 'b', 'a']\n"
          ]
        }
      ],
      "source": [
        "list_1 = ['a', 'b', 'c']\n",
        "list_1.sort()\n",
        "print ('Sort ascending:', list_1)\n",
        "list_1.sort(reverse = True)\n",
        "print ('Sort descending:', list_1)"
      ]
    },
    {
      "cell_type": "markdown",
      "metadata": {
        "id": "zF0laDfcs_-2"
      },
      "source": [
        "# 6. Tuples\n",
        "A **tuple** is a sequence of immutable Python objects. Tuples are sequences, just like lists. The differences between tuples and lists are, the tuples cannot be changed unlike lists and tuples use parentheses, whereas lists use square brackets."
      ]
    },
    {
      "cell_type": "code",
      "execution_count": 42,
      "metadata": {
        "id": "mgAKol8ls_-2",
        "colab": {
          "base_uri": "https://localhost:8080/"
        },
        "outputId": "bce447a0-21f8-4547-e200-27c320a17b72"
      },
      "outputs": [
        {
          "output_type": "stream",
          "name": "stdout",
          "text": [
            "Empty Tuple: ()\n",
            "Tuple with a single item: 1\n",
            "Sample Tuple: ('a', 'b', 'c', 'd', 1, 2, 3)\n"
          ]
        }
      ],
      "source": [
        "# Creating a tuple\n",
        "\n",
        "Tuple = ()\n",
        "print ('Empty Tuple:', Tuple)\n",
        "\n",
        "Tuple = (1)\n",
        "print ('Tuple with a single item:', Tuple)\n",
        "\n",
        "Tuple = ('a', 'b', 'c', 'd', 1, 2, 3)\n",
        "print ('Sample Tuple:', Tuple)"
      ]
    },
    {
      "cell_type": "code",
      "execution_count": 43,
      "metadata": {
        "id": "5ACTsb24s_-2",
        "colab": {
          "base_uri": "https://localhost:8080/"
        },
        "outputId": "9ec6eb70-4efc-44bc-dd44-4ce94627a56a"
      },
      "outputs": [
        {
          "output_type": "stream",
          "name": "stdout",
          "text": [
            "3rd item of Tuple: c\n",
            "First 3 items of Tuple: ('a', 'b', 'c')\n"
          ]
        }
      ],
      "source": [
        "# Accessing items in tuple\n",
        "\n",
        "print ('3rd item of Tuple:', Tuple[2])\n",
        "print ('First 3 items of Tuple:', Tuple[0:3])"
      ]
    },
    {
      "cell_type": "code",
      "execution_count": 45,
      "metadata": {
        "id": "1szmkpBns_-3",
        "colab": {
          "base_uri": "https://localhost:8080/"
        },
        "outputId": "96a6e19d-a7c1-4501-a34c-88644331685f"
      },
      "outputs": [
        {
          "output_type": "stream",
          "name": "stdout",
          "text": [
            "Sample Tuple: ('a', 'b', 'c', 'd', 1, 2, 3)\n",
            "The Tuple variable is deleted, attempting to print it will result in a NameError\n"
          ]
        }
      ],
      "source": [
        "# Deleting tuple\n",
        "\n",
        "Tuple = ('a', 'b', 'c', 'd', 1, 2, 3)\n",
        "print ('Sample Tuple:', Tuple)\n",
        "# Commenting out or removing the below line will resolve the error.\n",
        "# del Tuple\n",
        "# The variable \"Tuple\" no longer exists after the above del statement, causing the NameError\n",
        "# print (Tuple) # Will throw an error message as the tuple does not exist\n",
        "print (\"The Tuple variable is deleted, attempting to print it will result in a NameError\")"
      ]
    },
    {
      "cell_type": "code",
      "execution_count": 46,
      "metadata": {
        "id": "kpdmIgIfs_-3",
        "colab": {
          "base_uri": "https://localhost:8080/"
        },
        "outputId": "bfb8a5a0-8513-4c6c-ca31-5856679006cc"
      },
      "outputs": [
        {
          "output_type": "stream",
          "name": "stdout",
          "text": [
            "Length of Tuple: 7\n",
            "Concatinated Tuple: ('a', 'b', 'c', 'd', 1, 2, 3, 7, 8, 9)\n",
            "Repetition: (1, 'a', 2, 'b', 1, 'a', 2, 'b', 1, 'a', 2, 'b')\n",
            "Membership check: True\n",
            "1\n",
            "2\n",
            "3\n",
            "Negative sign will retrieve item from right: 8\n",
            "Sliced Tuple [2:] ('c', 'd', 1, 2, 3, 7, 8, 9)\n",
            "Max of the Tuple (1, 2, 3, 4, 5, 6, 7, 8, 9, 10): 10\n",
            "Min of the Tuple (1, 2, 3, 4, 5, 6, 7, 8, 9, 10): 1\n",
            "List [1, 2, 3, 4] converted to tuple: <class 'tuple'>\n"
          ]
        }
      ],
      "source": [
        "# Basic Tuple operations\n",
        "Tuple = ('a', 'b', 'c', 'd', 1, 2, 3)\n",
        "\n",
        "print ('Length of Tuple:', len(Tuple))\n",
        "\n",
        "Tuple_Concat = Tuple + (7, 8, 9)\n",
        "print ('Concatinated Tuple:', Tuple_Concat)\n",
        "\n",
        "print ('Repetition:', (1, 'a', 2, 'b') * 3)\n",
        "print ('Membership check:', 3 in (1, 2, 3))\n",
        "\n",
        "# Iteration\n",
        "for x in (1, 2, 3): print (x)\n",
        "\n",
        "print ('Negative sign will retrieve item from right:', Tuple_Concat[-2])\n",
        "print ('Sliced Tuple [2:]', Tuple_Concat[2:])\n",
        "\n",
        "# Find max\n",
        "print ('Max of the Tuple (1, 2, 3, 4, 5, 6, 7, 8, 9, 10):', max((1, 2, 3, 4, 5, 6, 7, 8, 9, 10)))\n",
        "print ('Min of the Tuple (1, 2, 3, 4, 5, 6, 7, 8, 9, 10):', min((1, 2, 3, 4, 5, 6, 7, 8, 9, 10)))\n",
        "print ('List [1, 2, 3, 4] converted to tuple:', type(tuple([1, 2, 3, 4])))"
      ]
    },
    {
      "cell_type": "markdown",
      "metadata": {
        "id": "h6-4Vvo_s_-3"
      },
      "source": [
        "# 7. Sets\n",
        "A **set** contains an unordered collection of unique and immutable objects. The set data type is, as the name implies, a Python implementation of the sets as they are known from mathematics. This explains, why sets unlike lists or tuples can't have multiple occurrences of the same element."
      ]
    },
    {
      "cell_type": "markdown",
      "metadata": {
        "id": "1xwfBxKQs_-3"
      },
      "source": [
        "## Creating sets"
      ]
    },
    {
      "cell_type": "code",
      "execution_count": 47,
      "metadata": {
        "id": "gP1g8umKs_-3",
        "colab": {
          "base_uri": "https://localhost:8080/"
        },
        "outputId": "689974ed-7181-416b-d1aa-ebefb819a3d6"
      },
      "outputs": [
        {
          "output_type": "stream",
          "name": "stdout",
          "text": [
            "set()\n",
            "{'R', 'SAS', 'Python', 'Julia'}\n",
            "{(2.7, 3.4), 'Python'}\n"
          ]
        }
      ],
      "source": [
        "# Creating an empty set\n",
        "languages = set()\n",
        "print (languages)\n",
        "\n",
        "languages = {'Python', 'R', 'SAS', 'Julia'}\n",
        "print (languages)\n",
        "\n",
        "# Set of mixed datatypes\n",
        "mixed_set = {'Python', (2.7, 3.4)}\n",
        "print (mixed_set)"
      ]
    },
    {
      "cell_type": "markdown",
      "metadata": {
        "id": "fQsEHMyIs_-3"
      },
      "source": [
        "## Accessing set elements"
      ]
    },
    {
      "cell_type": "code",
      "execution_count": 48,
      "metadata": {
        "id": "z7HyDl_js_-3",
        "colab": {
          "base_uri": "https://localhost:8080/"
        },
        "outputId": "71fc2a50-183b-47c9-e31d-bb579c351a0f"
      },
      "outputs": [
        {
          "output_type": "stream",
          "name": "stdout",
          "text": [
            "R\n",
            "['R', 'SAS', 'Python']\n"
          ]
        }
      ],
      "source": [
        "print (list(languages)[0])\n",
        "print (list(languages)[0:3])"
      ]
    },
    {
      "cell_type": "markdown",
      "metadata": {
        "id": "s7dxpCjCs_-4"
      },
      "source": [
        "## Changing a set in Python\n",
        "Although **sets** are mutable, indexing on them will have no meaning due to the fact that they are unordered. So sets do not support accessing or changing an item/element using indexing or slicing. The **add()** method can be used to add single element and **update()** method for adding multiple elements. Note that the **update()** method can take the argument in the format of tuples, lists, strings or other sets. However, in all cases the duplicates are ignored."
      ]
    },
    {
      "cell_type": "code",
      "execution_count": 49,
      "metadata": {
        "id": "MpKM-yPSs_-4",
        "colab": {
          "base_uri": "https://localhost:8080/"
        },
        "outputId": "39f7bd4b-a9b8-4859-98a2-78febd9ea89d"
      },
      "outputs": [
        {
          "output_type": "stream",
          "name": "stdout",
          "text": [
            "{'R', 'Python'}\n",
            "{'R', 'SAS', 'Python'}\n",
            "{'SPSS', 'Julia', 'SAS', 'R', 'Python'}\n",
            "{'SPSS', 'Julia', 'SAS', 'Machine Learning', 'AI', 'R', 'C', 'Python', 'Java', 'Data Science'}\n"
          ]
        }
      ],
      "source": [
        "# Initialize a set\n",
        "languages = {'Python', 'R'}\n",
        "print(languages)\n",
        "\n",
        "# Add an element\n",
        "languages.add('SAS')\n",
        "print(languages)\n",
        "\n",
        "# Ad multiple elements\n",
        "languages.update(['Julia', 'SPSS'])\n",
        "print(languages)\n",
        "\n",
        "# Add list and set\n",
        "languages.update(['Java', 'C'], {'Machine Learning', 'Data Science', 'AI'})\n",
        "print(languages)"
      ]
    },
    {
      "cell_type": "markdown",
      "metadata": {
        "id": "tfx-qJsAs_-4"
      },
      "source": [
        "## Removing items from set\n",
        "The **discard()** or **remove()** method can be used to remove a particular item from set. The fundamental difference between **discard()** and **remove()** is that the first do not take any action if the item does not exist in the set, whereas **remove()** will raises an error in such scenario."
      ]
    },
    {
      "cell_type": "code",
      "execution_count": 50,
      "metadata": {
        "id": "FqD0LS65s_-4",
        "colab": {
          "base_uri": "https://localhost:8080/"
        },
        "outputId": "7c0f2373-d753-4672-d9da-0f1afb603fdd"
      },
      "outputs": [
        {
          "output_type": "stream",
          "name": "stdout",
          "text": [
            "{'SPSS', 'Julia', 'SAS', 'Machine Learning', 'R', 'C', 'Python', 'Java', 'Data Science'}\n",
            "{'SPSS', 'Julia', 'SAS', 'Machine Learning', 'R', 'C', 'Python', 'Java', 'Data Science'}\n",
            "Removed: SPSS from {'Julia', 'SAS', 'Machine Learning', 'R', 'C', 'Python', 'Java', 'Data Science'}\n"
          ]
        }
      ],
      "source": [
        "# Remove an element\n",
        "languages.remove('AI')\n",
        "print(languages)\n",
        "\n",
        "# Discard an element, although AI has already been removed discard will not throw an error\n",
        "languages.discard('AI')\n",
        "print(languages)\n",
        "\n",
        "# Pop will remove a random item from set\n",
        "print ('Removed:', (languages.pop()), 'from', languages)"
      ]
    },
    {
      "cell_type": "markdown",
      "metadata": {
        "id": "M26RGidvs_-4"
      },
      "source": [
        "# 8. Dictionary\n",
        "Each **key** is separated from its value by a colon ( **:** ), the items are separated by commas, and the whole thing is enclosed in curly braces. An empty dictionary without any items is written with just two curly braces, like this: **{ }**.\n",
        "\n",
        "Keys are unique within a dictionary while values may not be. The values of a dictionary can be of any type, but the keys must be of an immutable data type such as strings, numbers, or tuples."
      ]
    },
    {
      "cell_type": "markdown",
      "metadata": {
        "id": "JwxAxswus_-4"
      },
      "source": [
        "## Creating a dictionary"
      ]
    },
    {
      "cell_type": "code",
      "execution_count": 51,
      "metadata": {
        "id": "clqpkOTNs_-4",
        "colab": {
          "base_uri": "https://localhost:8080/"
        },
        "outputId": "d6ec26e4-b36b-4b86-8eab-11bc37afc530"
      },
      "outputs": [
        {
          "output_type": "stream",
          "name": "stdout",
          "text": [
            "Sample dictionary: {'Name': 'Elizabeth', 'Age': 20, 'Class': 'Three'}\n"
          ]
        }
      ],
      "source": [
        "# Creating a dictionary\n",
        "dict = {'Name': 'Elizabeth', 'Age': 20, 'Class': 'Three'}\n",
        "\n",
        "print ('Sample dictionary:', dict)"
      ]
    },
    {
      "cell_type": "markdown",
      "metadata": {
        "id": "tJ9GHSC5s_-5"
      },
      "source": [
        "## Accessing items from dictionary"
      ]
    },
    {
      "cell_type": "code",
      "execution_count": 52,
      "metadata": {
        "id": "YB6jnnhxs_-5",
        "colab": {
          "base_uri": "https://localhost:8080/"
        },
        "outputId": "35ef311d-133e-42ff-9309-898e941c3e5b"
      },
      "outputs": [
        {
          "output_type": "stream",
          "name": "stdout",
          "text": [
            "Value of key Name, from sample dictionary: Elizabeth\n"
          ]
        }
      ],
      "source": [
        "# Accessing items from dictionary\n",
        "\n",
        "print ('Value of key Name, from sample dictionary:', dict['Name'])"
      ]
    },
    {
      "cell_type": "markdown",
      "metadata": {
        "id": "O_hZCSq1s_-5"
      },
      "source": [
        "## Deleting a dictionary"
      ]
    },
    {
      "cell_type": "code",
      "execution_count": 53,
      "metadata": {
        "id": "ag-zBxKMs_-5",
        "colab": {
          "base_uri": "https://localhost:8080/"
        },
        "outputId": "b79e524d-17c0-47aa-861e-b84f906d341f"
      },
      "outputs": [
        {
          "output_type": "stream",
          "name": "stdout",
          "text": [
            "Sample dictionary: {'Name': 'Elizabeth', 'Age': 20, 'Class': 'Three'}\n",
            "Sample dictionary post deletion of item Name: {'Age': 20, 'Class': 'Three'}\n",
            "dict post dict.clear(): {}\n"
          ]
        }
      ],
      "source": [
        "# Deleting a dictionary\n",
        "dict = {'Name': 'Elizabeth', 'Age': 20, 'Class': 'Three'}\n",
        "print ('Sample dictionary:', dict)\n",
        "del dict['Name'] # Delete specific item\n",
        "print ('Sample dictionary post deletion of item Name:', dict)\n",
        "\n",
        "dict = {'Name': 'Elizabeth', 'Age': 20, 'Class': 'Three'}\n",
        "dict.clear() # Clear all the contents of dictionary\n",
        "print ('dict post dict.clear():', dict)\n",
        "\n",
        "dict = {'Name': 'Elizabeth', 'Age': 20, 'Class': 'Three'}\n",
        "del dict # Delete the dictionary"
      ]
    },
    {
      "cell_type": "markdown",
      "metadata": {
        "id": "rmH7yaXzs_-5"
      },
      "source": [
        "## Updating a dictionary"
      ]
    },
    {
      "cell_type": "code",
      "execution_count": 54,
      "metadata": {
        "id": "AMsfiBX8s_-5",
        "colab": {
          "base_uri": "https://localhost:8080/"
        },
        "outputId": "c46dd367-7556-46ec-b878-88513ee0c54d"
      },
      "outputs": [
        {
          "output_type": "stream",
          "name": "stdout",
          "text": [
            "Sample dictionary: {'Name': 'Elizabeth', 'Age': 20, 'Class': 'Three'}\n",
            "Dictionary post age value update: {'Name': 'Elizabeth', 'Age': 22, 'Class': 'Three'}\n"
          ]
        }
      ],
      "source": [
        "# Updating a dictionary\n",
        "\n",
        "dict = {'Name': 'Elizabeth', 'Age': 20, 'Class': 'Three'}\n",
        "print ('Sample dictionary:', dict)\n",
        "dict['Age'] = 22\n",
        "\n",
        "print ('Dictionary post age value update:', dict)"
      ]
    },
    {
      "cell_type": "markdown",
      "metadata": {
        "id": "CJR6VqaRs_-6"
      },
      "source": [
        "## Basic operations on dictionary"
      ]
    },
    {
      "cell_type": "code",
      "execution_count": 55,
      "metadata": {
        "id": "7LN_hsx2s_-6",
        "colab": {
          "base_uri": "https://localhost:8080/"
        },
        "outputId": "ef3f5b48-363d-4f68-cdfd-1b326f2612fc"
      },
      "outputs": [
        {
          "output_type": "stream",
          "name": "stdout",
          "text": [
            "Length of dict:  3\n",
            "Equivalent String: {'Name': 'Elizabeth', 'Age': 20}\n",
            "{'Name': 'Elizabeth', 'Age': 20}\n",
            "New Dictionary: {'name': None, 'age': None, 'sex': None}\n",
            "New Dictionary: {'name': 10, 'age': 10, 'sex': 10}\n",
            "Value for Age: 20\n",
            "Value for Education: First Grade\n",
            "Age exists? True\n",
            "Sex exists? False\n",
            "dict items: dict_items([('Name', 'Elizabeth'), ('Age', 20)])\n",
            "dict keys: dict_keys(['Name', 'Age'])\n",
            "Value of dict: dict_values(['Elizabeth', 20])\n",
            "Value for Age: 20\n",
            "Value for Sex: None\n",
            "dict.update(dict2) =  {'Name': 'Elizabeth', 'Age': 20, 'Sex': 'female'}\n"
          ]
        }
      ],
      "source": [
        "# Basic operations\n",
        "\n",
        "dict = {'Name': 'Elizabeth', 'Age': 20, 'Class': 'Three'}\n",
        "print (\"Length of dict: \", len(dict))\n",
        "\n",
        "dict1 = {'Name': 'Elizabeth', 'Age': 20};\n",
        "dict2 = {'Name': 'James', 'Age': 22};\n",
        "dict3 = {'Name': 'James', 'Age': 19};\n",
        "dict4 = {'Name': 'Elizabeth', 'Age': 20};\n",
        "\n",
        "# String representation of dictionary\n",
        "dict = {'Name': 'Elizabeth', 'Age': 20}\n",
        "print ('Equivalent String:', str(dict))\n",
        "\n",
        "# Copy the dict\n",
        "dict1 = dict.copy()\n",
        "print (dict1)\n",
        "\n",
        "# Create new dictionary with keys from tuple and values to set value\n",
        "seq = ('name', 'age', 'sex')\n",
        "\n",
        "dict = dict.fromkeys(seq)\n",
        "print ('New Dictionary:', str(dict))\n",
        "\n",
        "dict = dict.fromkeys(seq, 10)\n",
        "print ('New Dictionary:', str(dict))\n",
        "\n",
        "# Retrieve value for a given key\n",
        "dict = {'Name': 'Elizabeth', 'Age': 20};\n",
        "print ('Value for Age:', dict.get('Age'))\n",
        "\n",
        "# Since the key Education does not exist, the second argument will be returned\n",
        "print ('Value for Education:', dict.get('Education', 'First Grade'))\n",
        "\n",
        "# Check if key in dictionary\n",
        "print ('Age exists?', 'Age' in dict)\n",
        "print ('Sex exists?', 'Sex' in dict)\n",
        "\n",
        "# Return items of dictionary\n",
        "print ('dict items:', dict.items())\n",
        "\n",
        "# Return items of keys\n",
        "print ('dict keys:', dict.keys())\n",
        "\n",
        "# Return values of dict\n",
        "print ('Value of dict:',  dict.values())\n",
        "\n",
        "# If key does not exists, then the arguments will be added to dict and returned\n",
        "print ('Value for Age:', dict.setdefault('Age', None))\n",
        "print ('Value for Sex:', dict.setdefault('Sex', None))\n",
        "\n",
        "# Concatenate dicts\n",
        "dict = {'Name': 'Elizabeth', 'Age': 20}\n",
        "dict2 = {'Sex': 'female' }\n",
        "\n",
        "dict.update(dict2)\n",
        "print ('dict.update(dict2) = ',  dict)"
      ]
    },
    {
      "cell_type": "markdown",
      "metadata": {
        "id": "AqHHuU1ns_-6"
      },
      "source": [
        "# 9. User defined functions\n",
        "A function is a block of organized, reusable code that is used to perform a single, related action. Functions provide better modularity for your application and a high degree of code reusing."
      ]
    },
    {
      "cell_type": "markdown",
      "metadata": {
        "id": "sBM9zZiks_-6"
      },
      "source": [
        "## Function without arguments"
      ]
    },
    {
      "cell_type": "code",
      "execution_count": 56,
      "metadata": {
        "id": "OvvRIPB0s_-7",
        "colab": {
          "base_uri": "https://localhost:8080/"
        },
        "outputId": "afec724a-8d92-45fd-9947-18245d407f9e"
      },
      "outputs": [
        {
          "output_type": "stream",
          "name": "stdout",
          "text": [
            "Hello World!\n"
          ]
        }
      ],
      "source": [
        "# Simple function\n",
        "def someFunction():\n",
        "    print ('Hello World!')\n",
        "\n",
        "# Call the function\n",
        "someFunction()"
      ]
    },
    {
      "cell_type": "markdown",
      "metadata": {
        "id": "9nTVQyeBs_-7"
      },
      "source": [
        "## Function with arguments"
      ]
    },
    {
      "cell_type": "code",
      "execution_count": 57,
      "metadata": {
        "id": "4DPPPsAqs_-7",
        "colab": {
          "base_uri": "https://localhost:8080/"
        },
        "outputId": "248d34e4-3a16-4fca-805c-9b8d80fb19ef"
      },
      "outputs": [
        {
          "output_type": "stream",
          "name": "stdout",
          "text": [
            "3\n"
          ]
        }
      ],
      "source": [
        "# Simple function to add two numbers\n",
        "def sum_two_numbers(a, b):\n",
        "    return a + b\n",
        "\n",
        "# After this line x will hold the value 3!\n",
        "x = sum_two_numbers(1, 2)\n",
        "print (x)"
      ]
    },
    {
      "cell_type": "markdown",
      "metadata": {
        "id": "DarHSg5ys_-7"
      },
      "source": [
        "You can also set default value for argument(s) in a function. In the below example value of **b** is set to **10** as default."
      ]
    },
    {
      "cell_type": "code",
      "execution_count": 58,
      "metadata": {
        "id": "pFum3caOs_-7",
        "colab": {
          "base_uri": "https://localhost:8080/"
        },
        "outputId": "164d4af2-4f7c-4450-f35b-3de24144496c"
      },
      "outputs": [
        {
          "output_type": "stream",
          "name": "stdout",
          "text": [
            "20\n",
            "15\n"
          ]
        }
      ],
      "source": [
        "def sum_two_numbers(a, b = 10):\n",
        "    return a + b\n",
        "\n",
        "print (sum_two_numbers(10))\n",
        "print (sum_two_numbers(10, 5))"
      ]
    },
    {
      "cell_type": "markdown",
      "metadata": {
        "id": "6GkGQmuDs_-7"
      },
      "source": [
        "## Scope of variables\n",
        "The scope of a variable determines the portion of the program where you can access a particular identifier.\n",
        "\n",
        "There are two basic scopes of variables in Python:\n",
        "- Global variables\n",
        "- Local variables"
      ]
    },
    {
      "cell_type": "code",
      "execution_count": 59,
      "metadata": {
        "id": "0zR7y8oXs_-7",
        "colab": {
          "base_uri": "https://localhost:8080/"
        },
        "outputId": "454b7ae4-21d9-40a0-906e-f3bd2f008768"
      },
      "outputs": [
        {
          "output_type": "stream",
          "name": "stdout",
          "text": [
            "20\n"
          ]
        }
      ],
      "source": [
        "# Global variable\n",
        "a = 10\n",
        "\n",
        "# Simple function to add two numbers\n",
        "def sum_two_numbers(b):\n",
        "    return a + b\n",
        "\n",
        "# Call the function and print result\n",
        "print (sum_two_numbers(10))"
      ]
    },
    {
      "cell_type": "markdown",
      "metadata": {
        "id": "0iJKQ9n1s_-8"
      },
      "source": [
        "## Default argument\n",
        "A default argument is an argument that assumes a default value if a value is not provided in the function call for that argument."
      ]
    },
    {
      "cell_type": "code",
      "execution_count": 60,
      "metadata": {
        "id": "vZZVXji9s_-8",
        "colab": {
          "base_uri": "https://localhost:8080/"
        },
        "outputId": "76375fa7-f06e-4019-8335-6d7cd08dfb3c"
      },
      "outputs": [
        {
          "output_type": "stream",
          "name": "stdout",
          "text": [
            "20\n",
            "15\n"
          ]
        }
      ],
      "source": [
        "# Simple function to add two number with b having default value of 10\n",
        "def sum_two_numbers(a, b = 10):\n",
        "    return a + b\n",
        "\n",
        "# Call the function and print result\n",
        "print (sum_two_numbers(10))\n",
        "\n",
        "print (sum_two_numbers(10, 5))"
      ]
    },
    {
      "cell_type": "markdown",
      "metadata": {
        "id": "_i90oe7as_-8"
      },
      "source": [
        "## Variable length arguments\n",
        "You may need to process a function for more arguments than you specified while defining the function. These arguments are called ***variable length arguments*** and are not named in the function definition, unlike required and default arguments. The ***args** and ****kwargs** is a common idiom to allow arbitrary number of arguments."
      ]
    },
    {
      "cell_type": "markdown",
      "metadata": {
        "id": "-E-XLsnMs_-8"
      },
      "source": [
        "The ***args** will give you all function parameters as a tuple."
      ]
    },
    {
      "cell_type": "code",
      "execution_count": 61,
      "metadata": {
        "id": "6SphRhSas_-8",
        "colab": {
          "base_uri": "https://localhost:8080/"
        },
        "outputId": "3211f549-36ae-49cb-9d33-9f6294a17196"
      },
      "outputs": [
        {
          "output_type": "stream",
          "name": "stdout",
          "text": [
            "1\n",
            "2\n",
            "3\n"
          ]
        }
      ],
      "source": [
        "# Simple function to loop through arguments and print them\n",
        "def foo(*args):\n",
        "    for a in args:\n",
        "        print (a)\n",
        "\n",
        "# Call the function\n",
        "foo(1, 2, 3)"
      ]
    },
    {
      "cell_type": "markdown",
      "metadata": {
        "id": "l2feAuAVs_-8"
      },
      "source": [
        "The ****kwargs** will give you all keyword arguments except for those corresponding to a formal parameter as a dictionary."
      ]
    },
    {
      "cell_type": "code",
      "execution_count": 62,
      "metadata": {
        "id": "lvUQ_KEjs_-8",
        "colab": {
          "base_uri": "https://localhost:8080/"
        },
        "outputId": "2719a688-c16e-4b0b-ef24-9c5827056a30"
      },
      "outputs": [
        {
          "output_type": "stream",
          "name": "stdout",
          "text": [
            "name Elizabeth\n",
            "age 20\n"
          ]
        }
      ],
      "source": [
        "# Simple function to loop through arguments and print them\n",
        "def foo(**kwargs):\n",
        "    for a in kwargs:\n",
        "        print (a, kwargs[a])\n",
        "\n",
        "# Call the function\n",
        "foo(name = 'Elizabeth', age = 20)"
      ]
    },
    {
      "cell_type": "markdown",
      "metadata": {
        "id": "3MP6BR4ks_-8"
      },
      "source": [
        "# 10. File input / output\n",
        "**File** is a named location on disk to store related information. When we want to read from or write to a file we need to open it first. When we are done, it needs to be closed, so that resources that are tied with the file are freed.\n",
        "\n",
        "So in Python, a file operation takes place in the following order:\n",
        "1. Open a file.\n",
        "2. Read or write (perform operation).\n",
        "3. Close the file."
      ]
    },
    {
      "cell_type": "code",
      "execution_count": 63,
      "metadata": {
        "id": "ibbJ3Rugs_-9",
        "colab": {
          "base_uri": "https://localhost:8080/"
        },
        "outputId": "d38e5f9f-fc6e-4f8e-e288-ab63fd678bbf"
      },
      "outputs": [
        {
          "output_type": "stream",
          "name": "stdout",
          "text": [
            "Enter a number: 15\n",
            "15\n"
          ]
        }
      ],
      "source": [
        "# Read input from console\n",
        "num = input('Enter a number: ')\n",
        "print (num)"
      ]
    },
    {
      "cell_type": "markdown",
      "metadata": {
        "id": "1IOziyZRs_-9"
      },
      "source": [
        "## Writing to a file"
      ]
    },
    {
      "cell_type": "code",
      "execution_count": 67,
      "metadata": {
        "id": "1xemOA5rs_-9",
        "colab": {
          "base_uri": "https://localhost:8080/",
          "height": 228
        },
        "outputId": "30fcdf7d-bc9c-4c04-bf2f-e7245132705f"
      },
      "outputs": [
        {
          "output_type": "stream",
          "name": "stdout",
          "text": [
            "Drive already mounted at /content/drive; to attempt to forcibly remount, call drive.mount(\"/content/drive\", force_remount=True).\n"
          ]
        },
        {
          "output_type": "error",
          "ename": "FileNotFoundError",
          "evalue": "[Errno 2] No such file or directory: '/content/drive/My Drive/Colab Notebooks/Lab01/'",
          "traceback": [
            "\u001b[0;31m---------------------------------------------------------------------------\u001b[0m",
            "\u001b[0;31mFileNotFoundError\u001b[0m                         Traceback (most recent call last)",
            "\u001b[0;32m<ipython-input-67-bd4c36785338>\u001b[0m in \u001b[0;36m<cell line: 0>\u001b[0;34m()\u001b[0m\n\u001b[1;32m      6\u001b[0m \u001b[0;34m\u001b[0m\u001b[0m\n\u001b[1;32m      7\u001b[0m \u001b[0;31m# Set working directory\u001b[0m\u001b[0;34m\u001b[0m\u001b[0;34m\u001b[0m\u001b[0m\n\u001b[0;32m----> 8\u001b[0;31m \u001b[0mos\u001b[0m\u001b[0;34m.\u001b[0m\u001b[0mchdir\u001b[0m\u001b[0;34m(\u001b[0m\u001b[0;34m'/content/drive/My Drive/Colab Notebooks/Lab01/'\u001b[0m\u001b[0;34m)\u001b[0m\u001b[0;34m\u001b[0m\u001b[0;34m\u001b[0m\u001b[0m\n\u001b[0m\u001b[1;32m      9\u001b[0m \u001b[0;34m\u001b[0m\u001b[0m\n\u001b[1;32m     10\u001b[0m \u001b[0;31m# Print the working directory\u001b[0m\u001b[0;34m\u001b[0m\u001b[0;34m\u001b[0m\u001b[0m\n",
            "\u001b[0;31mFileNotFoundError\u001b[0m: [Errno 2] No such file or directory: '/content/drive/My Drive/Colab Notebooks/Lab01/'"
          ]
        }
      ],
      "source": [
        "# Set working directory\n",
        "import os\n",
        "import io\n",
        "from google.colab import drive\n",
        "drive.mount('/content/drive')\n",
        "\n",
        "# Set working directory\n",
        "os.chdir('/content/drive/My Drive/Colab Notebooks/Lab01/')\n",
        "\n",
        "# Print the working directory\n",
        "print ('Current working directory is:', os.getcwd())\n",
        "\n",
        "# Below code will create a file named vechicles and add the items. \\n is a newline character\n",
        "vechicles = ['scooter\\n', 'bike\\n', 'car\\n']\n",
        "f = io.open('vechicles.txt', 'w')\n",
        "f.writelines(vechicles)\n",
        "f.close()"
      ]
    },
    {
      "cell_type": "markdown",
      "metadata": {
        "id": "-jONVRGus_-9"
      },
      "source": [
        "## Reading from file"
      ]
    },
    {
      "cell_type": "code",
      "execution_count": 66,
      "metadata": {
        "id": "Ub9WqaDAs_-9",
        "colab": {
          "base_uri": "https://localhost:8080/",
          "height": 176
        },
        "outputId": "6cc42404-6eaa-4756-db6d-aaf5f7b6ab69"
      },
      "outputs": [
        {
          "output_type": "error",
          "ename": "FileNotFoundError",
          "evalue": "[Errno 2] No such file or directory: 'vechicles.txt'",
          "traceback": [
            "\u001b[0;31m---------------------------------------------------------------------------\u001b[0m",
            "\u001b[0;31mFileNotFoundError\u001b[0m                         Traceback (most recent call last)",
            "\u001b[0;32m<ipython-input-66-6e9f777b7c0a>\u001b[0m in \u001b[0;36m<cell line: 0>\u001b[0;34m()\u001b[0m\n\u001b[0;32m----> 1\u001b[0;31m \u001b[0mf\u001b[0m \u001b[0;34m=\u001b[0m \u001b[0mio\u001b[0m\u001b[0;34m.\u001b[0m\u001b[0mopen\u001b[0m\u001b[0;34m(\u001b[0m\u001b[0;34m'vechicles.txt'\u001b[0m\u001b[0;34m)\u001b[0m\u001b[0;34m\u001b[0m\u001b[0;34m\u001b[0m\u001b[0m\n\u001b[0m\u001b[1;32m      2\u001b[0m \u001b[0mprint\u001b[0m \u001b[0;34m(\u001b[0m\u001b[0mf\u001b[0m\u001b[0;34m.\u001b[0m\u001b[0mreadlines\u001b[0m\u001b[0;34m(\u001b[0m\u001b[0;34m)\u001b[0m\u001b[0;34m)\u001b[0m\u001b[0;34m\u001b[0m\u001b[0;34m\u001b[0m\u001b[0m\n\u001b[1;32m      3\u001b[0m \u001b[0mf\u001b[0m\u001b[0;34m.\u001b[0m\u001b[0mclose\u001b[0m\u001b[0;34m(\u001b[0m\u001b[0;34m)\u001b[0m\u001b[0;34m\u001b[0m\u001b[0;34m\u001b[0m\u001b[0m\n",
            "\u001b[0;31mFileNotFoundError\u001b[0m: [Errno 2] No such file or directory: 'vechicles.txt'"
          ]
        }
      ],
      "source": [
        "f = io.open('vechicles.txt')\n",
        "print (f.readlines())\n",
        "f.close()"
      ]
    },
    {
      "cell_type": "markdown",
      "metadata": {
        "id": "dwaHvfRhs_-9"
      },
      "source": [
        "# 11. Exception handling\n",
        "An exception is an error that happens during the execution of a program that disrupts the normal flow of the program's instructions. When a Python script encounters a situation that it cannot cope with, it raises an exception. Your program should be designed to handle both expected and unexpected errors."
      ]
    },
    {
      "cell_type": "markdown",
      "metadata": {
        "id": "KLITezS6s_-9"
      },
      "source": [
        "## try and except\n",
        "A critical operation which can raise exception is placed inside the **try** clause and the code that handles exception is written in the **except** clause."
      ]
    },
    {
      "cell_type": "code",
      "execution_count": 69,
      "metadata": {
        "id": "Ukzx2hums_-9",
        "colab": {
          "base_uri": "https://localhost:8080/"
        },
        "outputId": "7e829bb5-2869-4e1d-dc86-55f7cdf08778"
      },
      "outputs": [
        {
          "output_type": "stream",
          "name": "stdout",
          "text": [
            "Result of a/b: 1.0\n"
          ]
        }
      ],
      "source": [
        "import sys\n",
        "\n",
        "try:\n",
        "    a = 1\n",
        "    b = 1\n",
        "    print ('Result of a/b:', a / b)\n",
        "except (ZeroDivisionError):\n",
        "    print ('Can not divide by zero!')\n",
        "except (TypeError):\n",
        "    print ('Wrong data type, division is allowed on numeric data type only!')\n",
        "except:\n",
        "    print ('Unexpected error occurred!', '\\n', 'Error Type:', sys.exc_info()[0], '\\n', 'Error Msg:', sys.exc_info()[1])"
      ]
    },
    {
      "cell_type": "code",
      "execution_count": 70,
      "metadata": {
        "id": "gIo95Xfes_--",
        "colab": {
          "base_uri": "https://localhost:8080/"
        },
        "outputId": "67215519-699b-4b72-9ec0-ebaf98fcbf3b"
      },
      "outputs": [
        {
          "output_type": "stream",
          "name": "stdout",
          "text": [
            "Can not divide by zero!\n"
          ]
        }
      ],
      "source": [
        "try:\n",
        "    a = 1\n",
        "    b = 0\n",
        "    print (a / b)\n",
        "except (ZeroDivisionError):\n",
        "    print ('Can not divide by zero!')\n",
        "except (TypeError):\n",
        "    print ('Wrong data type, division is allowed on numeric data type only!')\n",
        "except:\n",
        "    print ('Unexpected error occurred!', '\\n', 'Error Type:', sys.exc_info()[0], '\\n', 'Error Msg:', sys.exc_info()[1])"
      ]
    },
    {
      "cell_type": "code",
      "execution_count": 71,
      "metadata": {
        "id": "O2TBT_7xs_--",
        "colab": {
          "base_uri": "https://localhost:8080/"
        },
        "outputId": "31b2c3f4-2218-4662-be5f-836f93de6b14"
      },
      "outputs": [
        {
          "output_type": "stream",
          "name": "stdout",
          "text": [
            "Unexpected error occurred! \n",
            " Error Type: <class 'NameError'> \n",
            " Error Msg: name 'A' is not defined\n"
          ]
        }
      ],
      "source": [
        "try:\n",
        "    a = 1\n",
        "    b = 0\n",
        "    print (A / b)\n",
        "except (ZeroDivisionError):\n",
        "    print ('Can not divide by zero!')\n",
        "except (TypeError):\n",
        "    print ('Wrong data type, division is allowed on numeric data type only!')\n",
        "except:\n",
        "    print ('Unexpected error occurred!', '\\n', 'Error Type:', sys.exc_info()[0], '\\n', 'Error Msg:', sys.exc_info()[1])"
      ]
    },
    {
      "cell_type": "markdown",
      "metadata": {
        "id": "-EAFg8G0s_--"
      },
      "source": [
        "## Finally\n",
        "This is an optional clause which is intended to define clean-up actions that must be executed under all circumstances."
      ]
    },
    {
      "cell_type": "code",
      "execution_count": 73,
      "metadata": {
        "id": "dY7I6HcBs_--",
        "colab": {
          "base_uri": "https://localhost:8080/"
        },
        "outputId": "0d7d5c00-851b-4ace-9a4e-f8fb7d7b8e27"
      },
      "outputs": [
        {
          "output_type": "stream",
          "name": "stdout",
          "text": [
            "Unexpected error occurred \n",
            " Error Type: <class 'TypeError'> \n",
            " Error Msg: open() missing required argument 'flags' (pos 2)\n"
          ]
        }
      ],
      "source": [
        "try:\n",
        "    f = open('vechicles.txt')\n",
        "    s = f.readline()\n",
        "    print (s)\n",
        "    i = int(s.strip())\n",
        "except IOError as e:\n",
        "    print ('I/O error({0}): {1}'.format(e.errno, e.strerror))\n",
        "except ValueError:\n",
        "    print ('Could not convert data to an integer!')\n",
        "except:\n",
        "    print ('Unexpected error occurred', '\\n', 'Error Type:', sys.exc_info()[0], '\\n', 'Error Msg:', sys.exc_info()[1])\n",
        "finally:\n",
        "    # Check if f is defined before closing\n",
        "    if 'f' in locals() and f:  # Check if f is defined and not None\n",
        "        f.close()\n",
        "        print ('File has been closed')"
      ]
    },
    {
      "cell_type": "markdown",
      "metadata": {
        "id": "w9cZz58ms_--"
      },
      "source": [
        "# 12. Programming assignments"
      ]
    },
    {
      "cell_type": "markdown",
      "metadata": {
        "id": "QeE40iWZs_--"
      },
      "source": [
        "## App 1.\n",
        "Calculate the value of the variable: $$y = { {2 \\over {\\sqrt{|x|-4}}} - {6 \\over {x^2-5x}} },$$ where \\\\(x_1=8.167\\\\) and \\\\(x_2=-8.167\\\\)."
      ]
    },
    {
      "cell_type": "code",
      "execution_count": 74,
      "metadata": {
        "id": "pQIVdzuxs_--",
        "colab": {
          "base_uri": "https://localhost:8080/"
        },
        "outputId": "65477447-bd6c-4668-8490-d16091b1326f"
      },
      "outputs": [
        {
          "output_type": "stream",
          "name": "stdout",
          "text": [
            "For x1 = 8.167, y = 0.7477820024598913\n",
            "For x2 = -8.167, y = 0.9239608626169877\n"
          ]
        }
      ],
      "source": [
        "# prompt: Calculate the value of the variable:\n",
        "# y=2|x|−4−−−−−−√−6x2−5x,\n",
        "# where x1=8.167 and x2=−8.167.\n",
        "\n",
        "import math\n",
        "\n",
        "def calculate_y(x):\n",
        "  try:\n",
        "    y = (2 / math.sqrt(abs(x) - 4)) - (6 / (x**2 - 5*x))\n",
        "    return y\n",
        "  except ZeroDivisionError:\n",
        "    return \"Division by zero error\"\n",
        "  except ValueError:\n",
        "    return \"Square root of negative number error\"\n",
        "\n",
        "x1 = 8.167\n",
        "x2 = -8.167\n",
        "\n",
        "y1 = calculate_y(x1)\n",
        "y2 = calculate_y(x2)\n",
        "\n",
        "print(f\"For x1 = {x1}, y = {y1}\")\n",
        "print(f\"For x2 = {x2}, y = {y2}\")\n"
      ]
    },
    {
      "cell_type": "markdown",
      "metadata": {
        "id": "siLm-XLos_--"
      },
      "source": [
        "## App 2.\n",
        "Write a program that takes three numbers from the user (***a***, ***b***, ***c***) and then displays them on the screen in ascending order. Use an **if** statement."
      ]
    },
    {
      "cell_type": "code",
      "execution_count": 75,
      "metadata": {
        "id": "_b6YBQMUs_-_",
        "colab": {
          "base_uri": "https://localhost:8080/"
        },
        "outputId": "493472ac-837d-48e7-836a-b906b2f27e85"
      },
      "outputs": [
        {
          "output_type": "stream",
          "name": "stdout",
          "text": [
            "Enter the first number: 5\n",
            "Enter the second number: 5\n",
            "Enter the third number: 5\n",
            "5 5 5\n"
          ]
        }
      ],
      "source": [
        "# prompt: Write a program that takes three numbers from the user (a, b, c) and then displays them on the screen in ascending order. Use an if statement.\n",
        "\n",
        "a = int(input(\"Enter the first number: \"))\n",
        "b = int(input(\"Enter the second number: \"))\n",
        "c = int(input(\"Enter the third number: \"))\n",
        "\n",
        "if a <= b <= c:\n",
        "  print(a, b, c)\n",
        "elif a <= c <= b:\n",
        "  print(a, c, b)\n",
        "elif b <= a <= c:\n",
        "  print(b, a, c)\n",
        "elif b <= c <= a:\n",
        "  print(b, c, a)\n",
        "elif c <= a <= b:\n",
        "  print(c, a, b)\n",
        "else:\n",
        "  print(c, b, a)\n"
      ]
    },
    {
      "cell_type": "markdown",
      "metadata": {
        "id": "heSuYkBps_-_"
      },
      "source": [
        "## App 3.\n",
        "Write a program that calculates the surface area of the figure selected when the program starts: **1 - rectangle**, **2 - circle**, **3 - triangle**. After making the selection, the user should enter the dimensions of the figure needed for the calculation."
      ]
    },
    {
      "cell_type": "code",
      "execution_count": 76,
      "metadata": {
        "id": "i7ZnfIZhs_-_",
        "colab": {
          "base_uri": "https://localhost:8080/"
        },
        "outputId": "1dbff2fc-dab9-4896-c0ba-fc9ec070dd1d"
      },
      "outputs": [
        {
          "output_type": "stream",
          "name": "stdout",
          "text": [
            "Select a figure to calculate its area:\n",
            "1. Rectangle\n",
            "2. Circle\n",
            "3. Triangle\n",
            "Enter your choice (1-3): 2\n",
            "Enter the radius of the circle: 5\n",
            "The area of the circle is: 78.53981633974483\n"
          ]
        }
      ],
      "source": [
        "# prompt: Write a program that calculates the surface area of the figure selected when the program starts: 1 - rectangle, 2 - circle, 3 - triangle. After making the selection, the user should enter the dimensions of the figure needed for the calculation.\n",
        "\n",
        "import math\n",
        "\n",
        "def calculate_rectangle_area():\n",
        "  length = float(input(\"Enter the length of the rectangle: \"))\n",
        "  width = float(input(\"Enter the width of the rectangle: \"))\n",
        "  area = length * width\n",
        "  print(\"The area of the rectangle is:\", area)\n",
        "\n",
        "def calculate_circle_area():\n",
        "  radius = float(input(\"Enter the radius of the circle: \"))\n",
        "  area = math.pi * radius**2\n",
        "  print(\"The area of the circle is:\", area)\n",
        "\n",
        "def calculate_triangle_area():\n",
        "  base = float(input(\"Enter the base of the triangle: \"))\n",
        "  height = float(input(\"Enter the height of the triangle: \"))\n",
        "  area = 0.5 * base * height\n",
        "  print(\"The area of the triangle is:\", area)\n",
        "\n",
        "\n",
        "print(\"Select a figure to calculate its area:\")\n",
        "print(\"1. Rectangle\")\n",
        "print(\"2. Circle\")\n",
        "print(\"3. Triangle\")\n",
        "\n",
        "choice = input(\"Enter your choice (1-3): \")\n",
        "\n",
        "if choice == '1':\n",
        "  calculate_rectangle_area()\n",
        "elif choice == '2':\n",
        "  calculate_circle_area()\n",
        "elif choice == '3':\n",
        "  calculate_triangle_area()\n",
        "else:\n",
        "  print(\"Invalid choice. Please enter a number between 1 and 3.\")\n"
      ]
    },
    {
      "cell_type": "markdown",
      "metadata": {
        "id": "HzSpoo0-s_-_"
      },
      "source": [
        "## App 4.\n",
        "Write a program that solves the square equation of the form: \\\\(ax^2+bx+c\\\\), where coefficients ***a***, ***b*** and ***c*** are entered by the user with the keyboard. Do not use the **solvers** module."
      ]
    },
    {
      "cell_type": "code",
      "execution_count": 78,
      "metadata": {
        "id": "jyBiJOWns_-_",
        "colab": {
          "base_uri": "https://localhost:8080/"
        },
        "outputId": "57f71bb3-2672-41a2-d32b-eae0cacc281c"
      },
      "outputs": [
        {
          "output_type": "stream",
          "name": "stdout",
          "text": [
            "Enter the coefficient a: 5\n",
            "Enter the coefficient b: 4\n",
            "Enter the coefficient c: 2\n",
            "There are no real solutions.\n"
          ]
        }
      ],
      "source": [
        "# prompt: Write a program that solves the square equation of the form: ax2+bx+c, where coefficients a, b and c are entered by the user with the keyboard. Do not use the solvers module.\n",
        "\n",
        "import math\n",
        "\n",
        "def solve_quadratic_equation(a, b, c):\n",
        "  \"\"\"Solves a quadratic equation of the form ax^2 + bx + c = 0.\n",
        "\n",
        "  Args:\n",
        "    a: The coefficient of x^2.\n",
        "    b: The coefficient of x.\n",
        "    c: The constant term.\n",
        "\n",
        "  Returns:\n",
        "    A tuple containing the two solutions of the equation, or None if there are no\n",
        "    real solutions.\n",
        "  \"\"\"\n",
        "  delta = b**2 - 4*a*c\n",
        "\n",
        "  if delta > 0:\n",
        "    x1 = (-b + math.sqrt(delta)) / (2*a)\n",
        "    x2 = (-b - math.sqrt(delta)) / (2*a)\n",
        "    return x1, x2\n",
        "  elif delta == 0:\n",
        "    x = -b / (2*a)\n",
        "    return x, x\n",
        "  else:\n",
        "    return None\n",
        "\n",
        "\n",
        "a = float(input(\"Enter the coefficient a: \"))\n",
        "b = float(input(\"Enter the coefficient b: \"))\n",
        "c = float(input(\"Enter the coefficient c: \"))\n",
        "\n",
        "solutions = solve_quadratic_equation(a, b, c)\n",
        "\n",
        "if solutions:\n",
        "  if len(solutions) == 2:\n",
        "    print(\"The solutions are:\", solutions[0], \"and\", solutions[1])\n",
        "  else:\n",
        "    print(\"The solution is:\", solutions[0])\n",
        "else:\n",
        "  print(\"There are no real solutions.\")\n"
      ]
    },
    {
      "cell_type": "markdown",
      "metadata": {
        "id": "Y7g-5xRns_-_"
      },
      "source": [
        "## App 5.\n",
        "Write a program that displays squares of consecutive numbers from **1** to **10** in a **for** loop and in the **while** loop displays the cubes of even numbers from **1** to **100**."
      ]
    },
    {
      "cell_type": "code",
      "execution_count": 77,
      "metadata": {
        "id": "sBHPKx83s_-_",
        "colab": {
          "base_uri": "https://localhost:8080/"
        },
        "outputId": "5d2f9abd-af10-4935-ab7a-c9bd2709206c"
      },
      "outputs": [
        {
          "output_type": "stream",
          "name": "stdout",
          "text": [
            "The square of 1 is: 1\n",
            "The square of 2 is: 4\n",
            "The square of 3 is: 9\n",
            "The square of 4 is: 16\n",
            "The square of 5 is: 25\n",
            "The square of 6 is: 36\n",
            "The square of 7 is: 49\n",
            "The square of 8 is: 64\n",
            "The square of 9 is: 81\n",
            "The square of 10 is: 100\n",
            "The cube of 2 is: 8\n",
            "The cube of 4 is: 64\n",
            "The cube of 6 is: 216\n",
            "The cube of 8 is: 512\n",
            "The cube of 10 is: 1000\n",
            "The cube of 12 is: 1728\n",
            "The cube of 14 is: 2744\n",
            "The cube of 16 is: 4096\n",
            "The cube of 18 is: 5832\n",
            "The cube of 20 is: 8000\n",
            "The cube of 22 is: 10648\n",
            "The cube of 24 is: 13824\n",
            "The cube of 26 is: 17576\n",
            "The cube of 28 is: 21952\n",
            "The cube of 30 is: 27000\n",
            "The cube of 32 is: 32768\n",
            "The cube of 34 is: 39304\n",
            "The cube of 36 is: 46656\n",
            "The cube of 38 is: 54872\n",
            "The cube of 40 is: 64000\n",
            "The cube of 42 is: 74088\n",
            "The cube of 44 is: 85184\n",
            "The cube of 46 is: 97336\n",
            "The cube of 48 is: 110592\n",
            "The cube of 50 is: 125000\n",
            "The cube of 52 is: 140608\n",
            "The cube of 54 is: 157464\n",
            "The cube of 56 is: 175616\n",
            "The cube of 58 is: 195112\n",
            "The cube of 60 is: 216000\n",
            "The cube of 62 is: 238328\n",
            "The cube of 64 is: 262144\n",
            "The cube of 66 is: 287496\n",
            "The cube of 68 is: 314432\n",
            "The cube of 70 is: 343000\n",
            "The cube of 72 is: 373248\n",
            "The cube of 74 is: 405224\n",
            "The cube of 76 is: 438976\n",
            "The cube of 78 is: 474552\n",
            "The cube of 80 is: 512000\n",
            "The cube of 82 is: 551368\n",
            "The cube of 84 is: 592704\n",
            "The cube of 86 is: 636056\n",
            "The cube of 88 is: 681472\n",
            "The cube of 90 is: 729000\n",
            "The cube of 92 is: 778688\n",
            "The cube of 94 is: 830584\n",
            "The cube of 96 is: 884736\n",
            "The cube of 98 is: 941192\n",
            "The cube of 100 is: 1000000\n"
          ]
        }
      ],
      "source": [
        "# prompt: Write a program that displays squares of consecutive numbers from 1 to 10 in a for loop and in the while loop displays the cubes of even numbers from 1 to 100.\n",
        "\n",
        "# Display squares of consecutive numbers from 1 to 10 in a for loop\n",
        "for i in range(1, 11):\n",
        "  print(f\"The square of {i} is: {i**2}\")\n",
        "\n",
        "# Display cubes of even numbers from 1 to 100 in a while loop\n",
        "i = 2\n",
        "while i <= 100:\n",
        "  print(f\"The cube of {i} is: {i**3}\")\n",
        "  i += 2\n"
      ]
    }
  ],
  "metadata": {
    "anaconda-cloud": {},
    "kernelspec": {
      "display_name": "Python 3",
      "language": "python",
      "name": "python3"
    },
    "language_info": {
      "codemirror_mode": {
        "name": "ipython",
        "version": 3
      },
      "file_extension": ".py",
      "mimetype": "text/x-python",
      "name": "python",
      "nbconvert_exporter": "python",
      "pygments_lexer": "ipython3",
      "version": "3.6.5"
    },
    "colab": {
      "provenance": []
    }
  },
  "nbformat": 4,
  "nbformat_minor": 0
}